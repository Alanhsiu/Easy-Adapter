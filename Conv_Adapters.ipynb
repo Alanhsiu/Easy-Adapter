{
  "nbformat": 4,
  "nbformat_minor": 0,
  "metadata": {
    "colab": {
      "provenance": []
    },
    "kernelspec": {
      "name": "python3",
      "display_name": "Python 3"
    },
    "language_info": {
      "name": "python"
    },
    "accelerator": "GPU",
    "gpuClass": "standard",
    "widgets": {
      "application/vnd.jupyter.widget-state+json": {
        "5aeb3b9cee2e44368091ad2e3a57535c": {
          "model_module": "@jupyter-widgets/controls",
          "model_name": "HBoxModel",
          "model_module_version": "1.5.0",
          "state": {
            "_dom_classes": [],
            "_model_module": "@jupyter-widgets/controls",
            "_model_module_version": "1.5.0",
            "_model_name": "HBoxModel",
            "_view_count": null,
            "_view_module": "@jupyter-widgets/controls",
            "_view_module_version": "1.5.0",
            "_view_name": "HBoxView",
            "box_style": "",
            "children": [
              "IPY_MODEL_b05de6a217224ab89a01e1a2a3b2f6ee",
              "IPY_MODEL_2b350342b1e245219d8e7d34e85af809",
              "IPY_MODEL_bbaad8b8b05c47379f08ef2195a4b940"
            ],
            "layout": "IPY_MODEL_2af99298a6a1441cad319bb78a8179e9"
          }
        },
        "b05de6a217224ab89a01e1a2a3b2f6ee": {
          "model_module": "@jupyter-widgets/controls",
          "model_name": "HTMLModel",
          "model_module_version": "1.5.0",
          "state": {
            "_dom_classes": [],
            "_model_module": "@jupyter-widgets/controls",
            "_model_module_version": "1.5.0",
            "_model_name": "HTMLModel",
            "_view_count": null,
            "_view_module": "@jupyter-widgets/controls",
            "_view_module_version": "1.5.0",
            "_view_name": "HTMLView",
            "description": "",
            "description_tooltip": null,
            "layout": "IPY_MODEL_f3c263ec79ba4c399d60c282245b774f",
            "placeholder": "​",
            "style": "IPY_MODEL_e5df9f3457e04ea3acd397439d5804ca",
            "value": "100%"
          }
        },
        "2b350342b1e245219d8e7d34e85af809": {
          "model_module": "@jupyter-widgets/controls",
          "model_name": "FloatProgressModel",
          "model_module_version": "1.5.0",
          "state": {
            "_dom_classes": [],
            "_model_module": "@jupyter-widgets/controls",
            "_model_module_version": "1.5.0",
            "_model_name": "FloatProgressModel",
            "_view_count": null,
            "_view_module": "@jupyter-widgets/controls",
            "_view_module_version": "1.5.0",
            "_view_name": "ProgressView",
            "bar_style": "success",
            "description": "",
            "description_tooltip": null,
            "layout": "IPY_MODEL_41e08988fbff46ebb6ad450216f93da3",
            "max": 3,
            "min": 0,
            "orientation": "horizontal",
            "style": "IPY_MODEL_82424d1a39944159b19f62466a45a77f",
            "value": 3
          }
        },
        "bbaad8b8b05c47379f08ef2195a4b940": {
          "model_module": "@jupyter-widgets/controls",
          "model_name": "HTMLModel",
          "model_module_version": "1.5.0",
          "state": {
            "_dom_classes": [],
            "_model_module": "@jupyter-widgets/controls",
            "_model_module_version": "1.5.0",
            "_model_name": "HTMLModel",
            "_view_count": null,
            "_view_module": "@jupyter-widgets/controls",
            "_view_module_version": "1.5.0",
            "_view_name": "HTMLView",
            "description": "",
            "description_tooltip": null,
            "layout": "IPY_MODEL_7ea1401a4ffc4b06a54ce7ce90b74a09",
            "placeholder": "​",
            "style": "IPY_MODEL_3c24dd212fa548b68f203c84593a137f",
            "value": " 3/3 [00:00&lt;00:00,  3.44it/s]"
          }
        },
        "2af99298a6a1441cad319bb78a8179e9": {
          "model_module": "@jupyter-widgets/base",
          "model_name": "LayoutModel",
          "model_module_version": "1.2.0",
          "state": {
            "_model_module": "@jupyter-widgets/base",
            "_model_module_version": "1.2.0",
            "_model_name": "LayoutModel",
            "_view_count": null,
            "_view_module": "@jupyter-widgets/base",
            "_view_module_version": "1.2.0",
            "_view_name": "LayoutView",
            "align_content": null,
            "align_items": null,
            "align_self": null,
            "border": null,
            "bottom": null,
            "display": null,
            "flex": null,
            "flex_flow": null,
            "grid_area": null,
            "grid_auto_columns": null,
            "grid_auto_flow": null,
            "grid_auto_rows": null,
            "grid_column": null,
            "grid_gap": null,
            "grid_row": null,
            "grid_template_areas": null,
            "grid_template_columns": null,
            "grid_template_rows": null,
            "height": null,
            "justify_content": null,
            "justify_items": null,
            "left": null,
            "margin": null,
            "max_height": null,
            "max_width": null,
            "min_height": null,
            "min_width": null,
            "object_fit": null,
            "object_position": null,
            "order": null,
            "overflow": null,
            "overflow_x": null,
            "overflow_y": null,
            "padding": null,
            "right": null,
            "top": null,
            "visibility": null,
            "width": null
          }
        },
        "f3c263ec79ba4c399d60c282245b774f": {
          "model_module": "@jupyter-widgets/base",
          "model_name": "LayoutModel",
          "model_module_version": "1.2.0",
          "state": {
            "_model_module": "@jupyter-widgets/base",
            "_model_module_version": "1.2.0",
            "_model_name": "LayoutModel",
            "_view_count": null,
            "_view_module": "@jupyter-widgets/base",
            "_view_module_version": "1.2.0",
            "_view_name": "LayoutView",
            "align_content": null,
            "align_items": null,
            "align_self": null,
            "border": null,
            "bottom": null,
            "display": null,
            "flex": null,
            "flex_flow": null,
            "grid_area": null,
            "grid_auto_columns": null,
            "grid_auto_flow": null,
            "grid_auto_rows": null,
            "grid_column": null,
            "grid_gap": null,
            "grid_row": null,
            "grid_template_areas": null,
            "grid_template_columns": null,
            "grid_template_rows": null,
            "height": null,
            "justify_content": null,
            "justify_items": null,
            "left": null,
            "margin": null,
            "max_height": null,
            "max_width": null,
            "min_height": null,
            "min_width": null,
            "object_fit": null,
            "object_position": null,
            "order": null,
            "overflow": null,
            "overflow_x": null,
            "overflow_y": null,
            "padding": null,
            "right": null,
            "top": null,
            "visibility": null,
            "width": null
          }
        },
        "e5df9f3457e04ea3acd397439d5804ca": {
          "model_module": "@jupyter-widgets/controls",
          "model_name": "DescriptionStyleModel",
          "model_module_version": "1.5.0",
          "state": {
            "_model_module": "@jupyter-widgets/controls",
            "_model_module_version": "1.5.0",
            "_model_name": "DescriptionStyleModel",
            "_view_count": null,
            "_view_module": "@jupyter-widgets/base",
            "_view_module_version": "1.2.0",
            "_view_name": "StyleView",
            "description_width": ""
          }
        },
        "41e08988fbff46ebb6ad450216f93da3": {
          "model_module": "@jupyter-widgets/base",
          "model_name": "LayoutModel",
          "model_module_version": "1.2.0",
          "state": {
            "_model_module": "@jupyter-widgets/base",
            "_model_module_version": "1.2.0",
            "_model_name": "LayoutModel",
            "_view_count": null,
            "_view_module": "@jupyter-widgets/base",
            "_view_module_version": "1.2.0",
            "_view_name": "LayoutView",
            "align_content": null,
            "align_items": null,
            "align_self": null,
            "border": null,
            "bottom": null,
            "display": null,
            "flex": null,
            "flex_flow": null,
            "grid_area": null,
            "grid_auto_columns": null,
            "grid_auto_flow": null,
            "grid_auto_rows": null,
            "grid_column": null,
            "grid_gap": null,
            "grid_row": null,
            "grid_template_areas": null,
            "grid_template_columns": null,
            "grid_template_rows": null,
            "height": null,
            "justify_content": null,
            "justify_items": null,
            "left": null,
            "margin": null,
            "max_height": null,
            "max_width": null,
            "min_height": null,
            "min_width": null,
            "object_fit": null,
            "object_position": null,
            "order": null,
            "overflow": null,
            "overflow_x": null,
            "overflow_y": null,
            "padding": null,
            "right": null,
            "top": null,
            "visibility": null,
            "width": null
          }
        },
        "82424d1a39944159b19f62466a45a77f": {
          "model_module": "@jupyter-widgets/controls",
          "model_name": "ProgressStyleModel",
          "model_module_version": "1.5.0",
          "state": {
            "_model_module": "@jupyter-widgets/controls",
            "_model_module_version": "1.5.0",
            "_model_name": "ProgressStyleModel",
            "_view_count": null,
            "_view_module": "@jupyter-widgets/base",
            "_view_module_version": "1.2.0",
            "_view_name": "StyleView",
            "bar_color": null,
            "description_width": ""
          }
        },
        "7ea1401a4ffc4b06a54ce7ce90b74a09": {
          "model_module": "@jupyter-widgets/base",
          "model_name": "LayoutModel",
          "model_module_version": "1.2.0",
          "state": {
            "_model_module": "@jupyter-widgets/base",
            "_model_module_version": "1.2.0",
            "_model_name": "LayoutModel",
            "_view_count": null,
            "_view_module": "@jupyter-widgets/base",
            "_view_module_version": "1.2.0",
            "_view_name": "LayoutView",
            "align_content": null,
            "align_items": null,
            "align_self": null,
            "border": null,
            "bottom": null,
            "display": null,
            "flex": null,
            "flex_flow": null,
            "grid_area": null,
            "grid_auto_columns": null,
            "grid_auto_flow": null,
            "grid_auto_rows": null,
            "grid_column": null,
            "grid_gap": null,
            "grid_row": null,
            "grid_template_areas": null,
            "grid_template_columns": null,
            "grid_template_rows": null,
            "height": null,
            "justify_content": null,
            "justify_items": null,
            "left": null,
            "margin": null,
            "max_height": null,
            "max_width": null,
            "min_height": null,
            "min_width": null,
            "object_fit": null,
            "object_position": null,
            "order": null,
            "overflow": null,
            "overflow_x": null,
            "overflow_y": null,
            "padding": null,
            "right": null,
            "top": null,
            "visibility": null,
            "width": null
          }
        },
        "3c24dd212fa548b68f203c84593a137f": {
          "model_module": "@jupyter-widgets/controls",
          "model_name": "DescriptionStyleModel",
          "model_module_version": "1.5.0",
          "state": {
            "_model_module": "@jupyter-widgets/controls",
            "_model_module_version": "1.5.0",
            "_model_name": "DescriptionStyleModel",
            "_view_count": null,
            "_view_module": "@jupyter-widgets/base",
            "_view_module_version": "1.2.0",
            "_view_name": "StyleView",
            "description_width": ""
          }
        },
        "470e012c5fd640f5bac34775efb2f708": {
          "model_module": "@jupyter-widgets/controls",
          "model_name": "HBoxModel",
          "model_module_version": "1.5.0",
          "state": {
            "_dom_classes": [],
            "_model_module": "@jupyter-widgets/controls",
            "_model_module_version": "1.5.0",
            "_model_name": "HBoxModel",
            "_view_count": null,
            "_view_module": "@jupyter-widgets/controls",
            "_view_module_version": "1.5.0",
            "_view_name": "HBoxView",
            "box_style": "",
            "children": [
              "IPY_MODEL_93a43c343d0049e9a8507fb3b539b469",
              "IPY_MODEL_bfc4ff3fd1f94e73889c5ff1fdb1d34b",
              "IPY_MODEL_7b16a9eaf0a44317ac3034f22b428a0b"
            ],
            "layout": "IPY_MODEL_44e45b1fd6044f428a68f0c74c05aa7b"
          }
        },
        "93a43c343d0049e9a8507fb3b539b469": {
          "model_module": "@jupyter-widgets/controls",
          "model_name": "HTMLModel",
          "model_module_version": "1.5.0",
          "state": {
            "_dom_classes": [],
            "_model_module": "@jupyter-widgets/controls",
            "_model_module_version": "1.5.0",
            "_model_name": "HTMLModel",
            "_view_count": null,
            "_view_module": "@jupyter-widgets/controls",
            "_view_module_version": "1.5.0",
            "_view_name": "HTMLView",
            "description": "",
            "description_tooltip": null,
            "layout": "IPY_MODEL_99fc83df8838444db99372fa44e506af",
            "placeholder": "​",
            "style": "IPY_MODEL_c5e5fc965f72471c95cb77408892581e",
            "value": "Map: 100%"
          }
        },
        "bfc4ff3fd1f94e73889c5ff1fdb1d34b": {
          "model_module": "@jupyter-widgets/controls",
          "model_name": "FloatProgressModel",
          "model_module_version": "1.5.0",
          "state": {
            "_dom_classes": [],
            "_model_module": "@jupyter-widgets/controls",
            "_model_module_version": "1.5.0",
            "_model_name": "FloatProgressModel",
            "_view_count": null,
            "_view_module": "@jupyter-widgets/controls",
            "_view_module_version": "1.5.0",
            "_view_name": "ProgressView",
            "bar_style": "",
            "description": "",
            "description_tooltip": null,
            "layout": "IPY_MODEL_c11ff2073efd46bcb08a051dcec34004",
            "max": 25000,
            "min": 0,
            "orientation": "horizontal",
            "style": "IPY_MODEL_9e366b38e36e4306a2e7345d11a1b57b",
            "value": 25000
          }
        },
        "7b16a9eaf0a44317ac3034f22b428a0b": {
          "model_module": "@jupyter-widgets/controls",
          "model_name": "HTMLModel",
          "model_module_version": "1.5.0",
          "state": {
            "_dom_classes": [],
            "_model_module": "@jupyter-widgets/controls",
            "_model_module_version": "1.5.0",
            "_model_name": "HTMLModel",
            "_view_count": null,
            "_view_module": "@jupyter-widgets/controls",
            "_view_module_version": "1.5.0",
            "_view_name": "HTMLView",
            "description": "",
            "description_tooltip": null,
            "layout": "IPY_MODEL_32351cb5ae054f52a49880d28f3b35f2",
            "placeholder": "​",
            "style": "IPY_MODEL_ecc19aed6baa473185636d7ed1e11aaa",
            "value": " 25000/25000 [00:33&lt;00:00, 893.94 examples/s]"
          }
        },
        "44e45b1fd6044f428a68f0c74c05aa7b": {
          "model_module": "@jupyter-widgets/base",
          "model_name": "LayoutModel",
          "model_module_version": "1.2.0",
          "state": {
            "_model_module": "@jupyter-widgets/base",
            "_model_module_version": "1.2.0",
            "_model_name": "LayoutModel",
            "_view_count": null,
            "_view_module": "@jupyter-widgets/base",
            "_view_module_version": "1.2.0",
            "_view_name": "LayoutView",
            "align_content": null,
            "align_items": null,
            "align_self": null,
            "border": null,
            "bottom": null,
            "display": null,
            "flex": null,
            "flex_flow": null,
            "grid_area": null,
            "grid_auto_columns": null,
            "grid_auto_flow": null,
            "grid_auto_rows": null,
            "grid_column": null,
            "grid_gap": null,
            "grid_row": null,
            "grid_template_areas": null,
            "grid_template_columns": null,
            "grid_template_rows": null,
            "height": null,
            "justify_content": null,
            "justify_items": null,
            "left": null,
            "margin": null,
            "max_height": null,
            "max_width": null,
            "min_height": null,
            "min_width": null,
            "object_fit": null,
            "object_position": null,
            "order": null,
            "overflow": null,
            "overflow_x": null,
            "overflow_y": null,
            "padding": null,
            "right": null,
            "top": null,
            "visibility": "hidden",
            "width": null
          }
        },
        "99fc83df8838444db99372fa44e506af": {
          "model_module": "@jupyter-widgets/base",
          "model_name": "LayoutModel",
          "model_module_version": "1.2.0",
          "state": {
            "_model_module": "@jupyter-widgets/base",
            "_model_module_version": "1.2.0",
            "_model_name": "LayoutModel",
            "_view_count": null,
            "_view_module": "@jupyter-widgets/base",
            "_view_module_version": "1.2.0",
            "_view_name": "LayoutView",
            "align_content": null,
            "align_items": null,
            "align_self": null,
            "border": null,
            "bottom": null,
            "display": null,
            "flex": null,
            "flex_flow": null,
            "grid_area": null,
            "grid_auto_columns": null,
            "grid_auto_flow": null,
            "grid_auto_rows": null,
            "grid_column": null,
            "grid_gap": null,
            "grid_row": null,
            "grid_template_areas": null,
            "grid_template_columns": null,
            "grid_template_rows": null,
            "height": null,
            "justify_content": null,
            "justify_items": null,
            "left": null,
            "margin": null,
            "max_height": null,
            "max_width": null,
            "min_height": null,
            "min_width": null,
            "object_fit": null,
            "object_position": null,
            "order": null,
            "overflow": null,
            "overflow_x": null,
            "overflow_y": null,
            "padding": null,
            "right": null,
            "top": null,
            "visibility": null,
            "width": null
          }
        },
        "c5e5fc965f72471c95cb77408892581e": {
          "model_module": "@jupyter-widgets/controls",
          "model_name": "DescriptionStyleModel",
          "model_module_version": "1.5.0",
          "state": {
            "_model_module": "@jupyter-widgets/controls",
            "_model_module_version": "1.5.0",
            "_model_name": "DescriptionStyleModel",
            "_view_count": null,
            "_view_module": "@jupyter-widgets/base",
            "_view_module_version": "1.2.0",
            "_view_name": "StyleView",
            "description_width": ""
          }
        },
        "c11ff2073efd46bcb08a051dcec34004": {
          "model_module": "@jupyter-widgets/base",
          "model_name": "LayoutModel",
          "model_module_version": "1.2.0",
          "state": {
            "_model_module": "@jupyter-widgets/base",
            "_model_module_version": "1.2.0",
            "_model_name": "LayoutModel",
            "_view_count": null,
            "_view_module": "@jupyter-widgets/base",
            "_view_module_version": "1.2.0",
            "_view_name": "LayoutView",
            "align_content": null,
            "align_items": null,
            "align_self": null,
            "border": null,
            "bottom": null,
            "display": null,
            "flex": null,
            "flex_flow": null,
            "grid_area": null,
            "grid_auto_columns": null,
            "grid_auto_flow": null,
            "grid_auto_rows": null,
            "grid_column": null,
            "grid_gap": null,
            "grid_row": null,
            "grid_template_areas": null,
            "grid_template_columns": null,
            "grid_template_rows": null,
            "height": null,
            "justify_content": null,
            "justify_items": null,
            "left": null,
            "margin": null,
            "max_height": null,
            "max_width": null,
            "min_height": null,
            "min_width": null,
            "object_fit": null,
            "object_position": null,
            "order": null,
            "overflow": null,
            "overflow_x": null,
            "overflow_y": null,
            "padding": null,
            "right": null,
            "top": null,
            "visibility": null,
            "width": null
          }
        },
        "9e366b38e36e4306a2e7345d11a1b57b": {
          "model_module": "@jupyter-widgets/controls",
          "model_name": "ProgressStyleModel",
          "model_module_version": "1.5.0",
          "state": {
            "_model_module": "@jupyter-widgets/controls",
            "_model_module_version": "1.5.0",
            "_model_name": "ProgressStyleModel",
            "_view_count": null,
            "_view_module": "@jupyter-widgets/base",
            "_view_module_version": "1.2.0",
            "_view_name": "StyleView",
            "bar_color": null,
            "description_width": ""
          }
        },
        "32351cb5ae054f52a49880d28f3b35f2": {
          "model_module": "@jupyter-widgets/base",
          "model_name": "LayoutModel",
          "model_module_version": "1.2.0",
          "state": {
            "_model_module": "@jupyter-widgets/base",
            "_model_module_version": "1.2.0",
            "_model_name": "LayoutModel",
            "_view_count": null,
            "_view_module": "@jupyter-widgets/base",
            "_view_module_version": "1.2.0",
            "_view_name": "LayoutView",
            "align_content": null,
            "align_items": null,
            "align_self": null,
            "border": null,
            "bottom": null,
            "display": null,
            "flex": null,
            "flex_flow": null,
            "grid_area": null,
            "grid_auto_columns": null,
            "grid_auto_flow": null,
            "grid_auto_rows": null,
            "grid_column": null,
            "grid_gap": null,
            "grid_row": null,
            "grid_template_areas": null,
            "grid_template_columns": null,
            "grid_template_rows": null,
            "height": null,
            "justify_content": null,
            "justify_items": null,
            "left": null,
            "margin": null,
            "max_height": null,
            "max_width": null,
            "min_height": null,
            "min_width": null,
            "object_fit": null,
            "object_position": null,
            "order": null,
            "overflow": null,
            "overflow_x": null,
            "overflow_y": null,
            "padding": null,
            "right": null,
            "top": null,
            "visibility": null,
            "width": null
          }
        },
        "ecc19aed6baa473185636d7ed1e11aaa": {
          "model_module": "@jupyter-widgets/controls",
          "model_name": "DescriptionStyleModel",
          "model_module_version": "1.5.0",
          "state": {
            "_model_module": "@jupyter-widgets/controls",
            "_model_module_version": "1.5.0",
            "_model_name": "DescriptionStyleModel",
            "_view_count": null,
            "_view_module": "@jupyter-widgets/base",
            "_view_module_version": "1.2.0",
            "_view_name": "StyleView",
            "description_width": ""
          }
        }
      }
    }
  },
  "cells": [
    {
      "cell_type": "code",
      "source": [
        "! pip install transformers datasets"
      ],
      "metadata": {
        "id": "lynkbdevNmwV"
      },
      "execution_count": null,
      "outputs": []
    },
    {
      "cell_type": "code",
      "source": [
        "from torch import nn\n",
        "def depthwise_conv(n_in, n_out, compress_rate, k, stride):\n",
        "  conv = nn.Conv1d(n_in, n_out//compress_rate, k, stride = stride)\n",
        "  nn.init.kaiming_normal_(conv.weight)\n",
        "  return conv\n",
        "def pointwise_conv(n_in, n_out, compress_rate, k, stride):\n",
        "  conv = nn.Conv1d(n_out//compress_rate,n_out, 1)\n",
        "  nn.init.kaiming_normal_(conv.weight)\n",
        "  return conv\n",
        "\n",
        "n_in, n_out = 768, 768\n",
        "compress_rate = 2\n",
        "k, stride = 1, 1\n",
        "dropout = 0.8\n",
        "bottleneck = 32\n",
        "    \n",
        "\n",
        "class Adapter(nn.Module):\n",
        "    def __init__(\n",
        "            self,\n",
        "            input_size,\n",
        "        ):\n",
        "        super().__init__()\n",
        "\n",
        "        self.houlsby_adapter = nn.Sequential(\n",
        "          nn.Linear(n_in, bottleneck),\n",
        "          nn.GELU(),\n",
        "          nn.Linear(bottleneck, n_out),\n",
        "      )\n",
        "        self.conv_adapter = nn.Sequential(\n",
        "        depthwise_conv(n_in, n_out, compress_rate,k ,stride),\n",
        "        pointwise_conv(n_in, n_out, compress_rate,k ,stride),\n",
        "        nn.Dropout(p=dropout),\n",
        "        nn.GELU()\n",
        "      )\n",
        "    def forward(self, x):\n",
        "        return self.houlsby_adapter(x)\n"
      ],
      "metadata": {
        "id": "m7HU18BMNitf"
      },
      "execution_count": 65,
      "outputs": []
    },
    {
      "cell_type": "code",
      "execution_count": 70,
      "metadata": {
        "id": "Ec2TeCuA-YrR",
        "colab": {
          "base_uri": "https://localhost:8080/"
        },
        "outputId": "2d7fd2fe-3d20-42b9-eb24-2adf4ed0d868"
      },
      "outputs": [
        {
          "output_type": "stream",
          "name": "stderr",
          "text": [
            "Some weights of the model checkpoint at bert-base-uncased were not used when initializing BertForSequenceClassification: ['cls.predictions.transform.dense.weight', 'cls.seq_relationship.weight', 'cls.predictions.transform.LayerNorm.weight', 'cls.predictions.bias', 'cls.predictions.decoder.weight', 'cls.predictions.transform.LayerNorm.bias', 'cls.predictions.transform.dense.bias', 'cls.seq_relationship.bias']\n",
            "- This IS expected if you are initializing BertForSequenceClassification from the checkpoint of a model trained on another task or with another architecture (e.g. initializing a BertForSequenceClassification model from a BertForPreTraining model).\n",
            "- This IS NOT expected if you are initializing BertForSequenceClassification from the checkpoint of a model that you expect to be exactly identical (initializing a BertForSequenceClassification model from a BertForSequenceClassification model).\n",
            "Some weights of BertForSequenceClassification were not initialized from the model checkpoint at bert-base-uncased and are newly initialized: ['classifier.bias', 'classifier.weight']\n",
            "You should probably TRAIN this model on a down-stream task to be able to use it for predictions and inference.\n"
          ]
        },
        {
          "output_type": "stream",
          "name": "stdout",
          "text": [
            "unfreeze adapter bert.encoder.layer.0.adapter.houlsby_adapter.0.weight\n",
            "unfreeze adapter bert.encoder.layer.0.adapter.houlsby_adapter.0.bias\n",
            "unfreeze adapter bert.encoder.layer.0.adapter.houlsby_adapter.2.weight\n",
            "unfreeze adapter bert.encoder.layer.0.adapter.houlsby_adapter.2.bias\n",
            "unfreeze adapter bert.encoder.layer.0.adapter.conv_adapter.0.weight\n",
            "unfreeze adapter bert.encoder.layer.0.adapter.conv_adapter.0.bias\n",
            "unfreeze adapter bert.encoder.layer.0.adapter.conv_adapter.1.weight\n",
            "unfreeze adapter bert.encoder.layer.0.adapter.conv_adapter.1.bias\n",
            "unfreeze adapter bert.encoder.layer.1.adapter.houlsby_adapter.0.weight\n",
            "unfreeze adapter bert.encoder.layer.1.adapter.houlsby_adapter.0.bias\n",
            "unfreeze adapter bert.encoder.layer.1.adapter.houlsby_adapter.2.weight\n",
            "unfreeze adapter bert.encoder.layer.1.adapter.houlsby_adapter.2.bias\n",
            "unfreeze adapter bert.encoder.layer.1.adapter.conv_adapter.0.weight\n",
            "unfreeze adapter bert.encoder.layer.1.adapter.conv_adapter.0.bias\n",
            "unfreeze adapter bert.encoder.layer.1.adapter.conv_adapter.1.weight\n",
            "unfreeze adapter bert.encoder.layer.1.adapter.conv_adapter.1.bias\n",
            "unfreeze adapter bert.encoder.layer.2.adapter.houlsby_adapter.0.weight\n",
            "unfreeze adapter bert.encoder.layer.2.adapter.houlsby_adapter.0.bias\n",
            "unfreeze adapter bert.encoder.layer.2.adapter.houlsby_adapter.2.weight\n",
            "unfreeze adapter bert.encoder.layer.2.adapter.houlsby_adapter.2.bias\n",
            "unfreeze adapter bert.encoder.layer.2.adapter.conv_adapter.0.weight\n",
            "unfreeze adapter bert.encoder.layer.2.adapter.conv_adapter.0.bias\n",
            "unfreeze adapter bert.encoder.layer.2.adapter.conv_adapter.1.weight\n",
            "unfreeze adapter bert.encoder.layer.2.adapter.conv_adapter.1.bias\n",
            "unfreeze adapter bert.encoder.layer.3.adapter.houlsby_adapter.0.weight\n",
            "unfreeze adapter bert.encoder.layer.3.adapter.houlsby_adapter.0.bias\n",
            "unfreeze adapter bert.encoder.layer.3.adapter.houlsby_adapter.2.weight\n",
            "unfreeze adapter bert.encoder.layer.3.adapter.houlsby_adapter.2.bias\n",
            "unfreeze adapter bert.encoder.layer.3.adapter.conv_adapter.0.weight\n",
            "unfreeze adapter bert.encoder.layer.3.adapter.conv_adapter.0.bias\n",
            "unfreeze adapter bert.encoder.layer.3.adapter.conv_adapter.1.weight\n",
            "unfreeze adapter bert.encoder.layer.3.adapter.conv_adapter.1.bias\n",
            "unfreeze adapter bert.encoder.layer.4.adapter.houlsby_adapter.0.weight\n",
            "unfreeze adapter bert.encoder.layer.4.adapter.houlsby_adapter.0.bias\n",
            "unfreeze adapter bert.encoder.layer.4.adapter.houlsby_adapter.2.weight\n",
            "unfreeze adapter bert.encoder.layer.4.adapter.houlsby_adapter.2.bias\n",
            "unfreeze adapter bert.encoder.layer.4.adapter.conv_adapter.0.weight\n",
            "unfreeze adapter bert.encoder.layer.4.adapter.conv_adapter.0.bias\n",
            "unfreeze adapter bert.encoder.layer.4.adapter.conv_adapter.1.weight\n",
            "unfreeze adapter bert.encoder.layer.4.adapter.conv_adapter.1.bias\n",
            "unfreeze adapter bert.encoder.layer.5.adapter.houlsby_adapter.0.weight\n",
            "unfreeze adapter bert.encoder.layer.5.adapter.houlsby_adapter.0.bias\n",
            "unfreeze adapter bert.encoder.layer.5.adapter.houlsby_adapter.2.weight\n",
            "unfreeze adapter bert.encoder.layer.5.adapter.houlsby_adapter.2.bias\n",
            "unfreeze adapter bert.encoder.layer.5.adapter.conv_adapter.0.weight\n",
            "unfreeze adapter bert.encoder.layer.5.adapter.conv_adapter.0.bias\n",
            "unfreeze adapter bert.encoder.layer.5.adapter.conv_adapter.1.weight\n",
            "unfreeze adapter bert.encoder.layer.5.adapter.conv_adapter.1.bias\n",
            "unfreeze adapter bert.encoder.layer.6.adapter.houlsby_adapter.0.weight\n",
            "unfreeze adapter bert.encoder.layer.6.adapter.houlsby_adapter.0.bias\n",
            "unfreeze adapter bert.encoder.layer.6.adapter.houlsby_adapter.2.weight\n",
            "unfreeze adapter bert.encoder.layer.6.adapter.houlsby_adapter.2.bias\n",
            "unfreeze adapter bert.encoder.layer.6.adapter.conv_adapter.0.weight\n",
            "unfreeze adapter bert.encoder.layer.6.adapter.conv_adapter.0.bias\n",
            "unfreeze adapter bert.encoder.layer.6.adapter.conv_adapter.1.weight\n",
            "unfreeze adapter bert.encoder.layer.6.adapter.conv_adapter.1.bias\n",
            "unfreeze adapter bert.encoder.layer.7.adapter.houlsby_adapter.0.weight\n",
            "unfreeze adapter bert.encoder.layer.7.adapter.houlsby_adapter.0.bias\n",
            "unfreeze adapter bert.encoder.layer.7.adapter.houlsby_adapter.2.weight\n",
            "unfreeze adapter bert.encoder.layer.7.adapter.houlsby_adapter.2.bias\n",
            "unfreeze adapter bert.encoder.layer.7.adapter.conv_adapter.0.weight\n",
            "unfreeze adapter bert.encoder.layer.7.adapter.conv_adapter.0.bias\n",
            "unfreeze adapter bert.encoder.layer.7.adapter.conv_adapter.1.weight\n",
            "unfreeze adapter bert.encoder.layer.7.adapter.conv_adapter.1.bias\n",
            "unfreeze adapter bert.encoder.layer.8.adapter.houlsby_adapter.0.weight\n",
            "unfreeze adapter bert.encoder.layer.8.adapter.houlsby_adapter.0.bias\n",
            "unfreeze adapter bert.encoder.layer.8.adapter.houlsby_adapter.2.weight\n",
            "unfreeze adapter bert.encoder.layer.8.adapter.houlsby_adapter.2.bias\n",
            "unfreeze adapter bert.encoder.layer.8.adapter.conv_adapter.0.weight\n",
            "unfreeze adapter bert.encoder.layer.8.adapter.conv_adapter.0.bias\n",
            "unfreeze adapter bert.encoder.layer.8.adapter.conv_adapter.1.weight\n",
            "unfreeze adapter bert.encoder.layer.8.adapter.conv_adapter.1.bias\n",
            "unfreeze adapter bert.encoder.layer.9.adapter.houlsby_adapter.0.weight\n",
            "unfreeze adapter bert.encoder.layer.9.adapter.houlsby_adapter.0.bias\n",
            "unfreeze adapter bert.encoder.layer.9.adapter.houlsby_adapter.2.weight\n",
            "unfreeze adapter bert.encoder.layer.9.adapter.houlsby_adapter.2.bias\n",
            "unfreeze adapter bert.encoder.layer.9.adapter.conv_adapter.0.weight\n",
            "unfreeze adapter bert.encoder.layer.9.adapter.conv_adapter.0.bias\n",
            "unfreeze adapter bert.encoder.layer.9.adapter.conv_adapter.1.weight\n",
            "unfreeze adapter bert.encoder.layer.9.adapter.conv_adapter.1.bias\n",
            "unfreeze adapter bert.encoder.layer.10.adapter.houlsby_adapter.0.weight\n",
            "unfreeze adapter bert.encoder.layer.10.adapter.houlsby_adapter.0.bias\n",
            "unfreeze adapter bert.encoder.layer.10.adapter.houlsby_adapter.2.weight\n",
            "unfreeze adapter bert.encoder.layer.10.adapter.houlsby_adapter.2.bias\n",
            "unfreeze adapter bert.encoder.layer.10.adapter.conv_adapter.0.weight\n",
            "unfreeze adapter bert.encoder.layer.10.adapter.conv_adapter.0.bias\n",
            "unfreeze adapter bert.encoder.layer.10.adapter.conv_adapter.1.weight\n",
            "unfreeze adapter bert.encoder.layer.10.adapter.conv_adapter.1.bias\n",
            "unfreeze adapter bert.encoder.layer.11.adapter.houlsby_adapter.0.weight\n",
            "unfreeze adapter bert.encoder.layer.11.adapter.houlsby_adapter.0.bias\n",
            "unfreeze adapter bert.encoder.layer.11.adapter.houlsby_adapter.2.weight\n",
            "unfreeze adapter bert.encoder.layer.11.adapter.houlsby_adapter.2.bias\n",
            "unfreeze adapter bert.encoder.layer.11.adapter.conv_adapter.0.weight\n",
            "unfreeze adapter bert.encoder.layer.11.adapter.conv_adapter.0.bias\n",
            "unfreeze adapter bert.encoder.layer.11.adapter.conv_adapter.1.weight\n",
            "unfreeze adapter bert.encoder.layer.11.adapter.conv_adapter.1.bias\n"
          ]
        }
      ],
      "source": [
        "from transformers import AutoModelForSequenceClassification\n",
        "from torch import nn\n",
        "import torch\n",
        "\n",
        "##vanilla houlsby residual adapter, custom layers\n",
        "class adapted_bert_layer(nn.Module):\n",
        "  def __init__(self, bert_layer):\n",
        "    super().__init__()\n",
        "    self.bert_layer = bert_layer\n",
        "    self.adapter = Adapter(768)\n",
        "  def forward(self, *x):\n",
        "    bert_out = self.bert_layer(*x)\n",
        "    return self.adapter(x) + self.bert_layer(x)\n",
        "model_bert = AutoModelForSequenceClassification.from_pretrained(\"bert-base-uncased\")\n",
        "\n",
        "#add adapter module in a bert model\n",
        "for idx, layer in enumerate(model_bert.bert.encoder.layer):\n",
        "  model_bert.bert.encoder.layer[idx] = adapted_bert_layer(model_bert.bert.encoder.layer[idx])\n",
        "\n",
        "#freeze parameters\n",
        "for name, param in model_bert.named_parameters():\n",
        "  if \"adapter\" in name:\n",
        "    param.require_grad = True\n",
        "    print(\"unfreeze adapter\", name)\n",
        "  else:\n",
        "    param.require_grad = False\n"
      ]
    },
    {
      "cell_type": "code",
      "source": [
        "from datasets import load_dataset\n",
        "raw_datasets = load_dataset(\"imdb\")\n",
        "from transformers import AutoTokenizer\n",
        "\n",
        "tokenizer = AutoTokenizer.from_pretrained(\"bert-base-cased\")\n",
        "def tokenize_function(examples):\n",
        "    return tokenizer(examples[\"text\"], padding=\"max_length\", truncation=True)\n",
        "\n",
        "tokenized_datasets = raw_datasets.map(tokenize_function, batched=True)\n",
        "small_train_dataset = tokenized_datasets[\"train\"].shuffle(seed=42).select(range(1000))\n",
        "small_eval_dataset = tokenized_datasets[\"test\"].shuffle(seed=42).select(range(1000))\n",
        "full_train_dataset = tokenized_datasets[\"train\"]\n",
        "full_eval_dataset = tokenized_datasets[\"test\"]"
      ],
      "metadata": {
        "colab": {
          "base_uri": "https://localhost:8080/",
          "height": 118,
          "referenced_widgets": [
            "5aeb3b9cee2e44368091ad2e3a57535c",
            "b05de6a217224ab89a01e1a2a3b2f6ee",
            "2b350342b1e245219d8e7d34e85af809",
            "bbaad8b8b05c47379f08ef2195a4b940",
            "2af99298a6a1441cad319bb78a8179e9",
            "f3c263ec79ba4c399d60c282245b774f",
            "e5df9f3457e04ea3acd397439d5804ca",
            "41e08988fbff46ebb6ad450216f93da3",
            "82424d1a39944159b19f62466a45a77f",
            "7ea1401a4ffc4b06a54ce7ce90b74a09",
            "3c24dd212fa548b68f203c84593a137f",
            "470e012c5fd640f5bac34775efb2f708",
            "93a43c343d0049e9a8507fb3b539b469",
            "bfc4ff3fd1f94e73889c5ff1fdb1d34b",
            "7b16a9eaf0a44317ac3034f22b428a0b",
            "44e45b1fd6044f428a68f0c74c05aa7b",
            "99fc83df8838444db99372fa44e506af",
            "c5e5fc965f72471c95cb77408892581e",
            "c11ff2073efd46bcb08a051dcec34004",
            "9e366b38e36e4306a2e7345d11a1b57b",
            "32351cb5ae054f52a49880d28f3b35f2",
            "ecc19aed6baa473185636d7ed1e11aaa"
          ]
        },
        "id": "P9jK7WnEOU3n",
        "outputId": "537e8efb-789a-43c4-de5b-ca78737e99cd"
      },
      "execution_count": 71,
      "outputs": [
        {
          "output_type": "stream",
          "name": "stderr",
          "text": [
            "WARNING:datasets.builder:Found cached dataset imdb (/root/.cache/huggingface/datasets/imdb/plain_text/1.0.0/d613c88cf8fa3bab83b4ded3713f1f74830d1100e171db75bbddb80b3345c9c0)\n"
          ]
        },
        {
          "output_type": "display_data",
          "data": {
            "text/plain": [
              "  0%|          | 0/3 [00:00<?, ?it/s]"
            ],
            "application/vnd.jupyter.widget-view+json": {
              "version_major": 2,
              "version_minor": 0,
              "model_id": "5aeb3b9cee2e44368091ad2e3a57535c"
            }
          },
          "metadata": {}
        },
        {
          "output_type": "stream",
          "name": "stderr",
          "text": [
            "WARNING:datasets.arrow_dataset:Loading cached processed dataset at /root/.cache/huggingface/datasets/imdb/plain_text/1.0.0/d613c88cf8fa3bab83b4ded3713f1f74830d1100e171db75bbddb80b3345c9c0/cache-23dbfa0878e525bf.arrow\n"
          ]
        },
        {
          "output_type": "display_data",
          "data": {
            "text/plain": [
              "Map:   0%|          | 0/25000 [00:00<?, ? examples/s]"
            ],
            "application/vnd.jupyter.widget-view+json": {
              "version_major": 2,
              "version_minor": 0,
              "model_id": "470e012c5fd640f5bac34775efb2f708"
            }
          },
          "metadata": {}
        },
        {
          "output_type": "stream",
          "name": "stderr",
          "text": [
            "WARNING:datasets.arrow_dataset:Loading cached processed dataset at /root/.cache/huggingface/datasets/imdb/plain_text/1.0.0/d613c88cf8fa3bab83b4ded3713f1f74830d1100e171db75bbddb80b3345c9c0/cache-64107841fb4156c7.arrow\n",
            "WARNING:datasets.arrow_dataset:Loading cached shuffled indices for dataset at /root/.cache/huggingface/datasets/imdb/plain_text/1.0.0/d613c88cf8fa3bab83b4ded3713f1f74830d1100e171db75bbddb80b3345c9c0/cache-c6770004c957715b.arrow\n"
          ]
        }
      ]
    },
    {
      "cell_type": "code",
      "source": [
        "from transformers import TrainingArguments\n",
        "training_args = TrainingArguments(\"test_trainer\")\n",
        "from transformers import Trainer\n",
        "trainer = Trainer(\n",
        "    model=model_bert, args=training_args, train_dataset=small_train_dataset, eval_dataset=small_eval_dataset\n",
        ")"
      ],
      "metadata": {
        "id": "m_ISnGsrOpmH"
      },
      "execution_count": null,
      "outputs": []
    },
    {
      "cell_type": "code",
      "source": [
        "trainer.train()"
      ],
      "metadata": {
        "id": "OFbngy4mO-Jb"
      },
      "execution_count": null,
      "outputs": []
    },
    {
      "cell_type": "code",
      "source": [
        "from transformers import BertForSequenceClassification, Trainer, TrainingArguments\n",
        "\n",
        "# Initialize the BERT model and tokenizer\n",
        "model = BertModelWithAdapters.from_pretrained('bert-base-uncased')\n",
        "tokenizer = AutoTokenizer.from_pretrained(\"bert-base-cased\")\n",
        "\n",
        "# Define the training arguments\n",
        "training_args = TrainingArguments(\n",
        "    output_dir='./results',\n",
        "    num_train_epochs=3,\n",
        "    per_device_train_batch_size=32,\n",
        "    per_device_eval_batch_size=64,\n",
        "    warmup_steps=500,\n",
        "    weight_decay=0.01,\n",
        "    logging_dir='./logs',\n",
        "    logging_steps=1000,\n",
        ")\n",
        "\n",
        "# Freeze the parameters of the first two layers\n",
        "model.encoder.layer[0].requires_grad_(False)\n",
        "model.encoder.layer[1].requires_grad_(False)\n",
        "\n",
        "# Define the model_init function to pass to the Trainer\n",
        "def model_init():\n",
        "    return model\n",
        "\n",
        "# Initialize the Trainer\n",
        "trainer = Trainer(\n",
        "    model_init=model_init,\n",
        "    args=training_args,\n",
        "    train_dataset=train_dataset,\n",
        "    eval_dataset=eval_dataset,\n",
        ")\n",
        "\n",
        "# Train the model\n",
        "trainer.train()\n"
      ],
      "metadata": {
        "id": "Sy5NgBgWP34z",
        "colab": {
          "base_uri": "https://localhost:8080/",
          "height": 465
        },
        "outputId": "3d055179-9d2b-4df2-d4d2-9c6d499a9156"
      },
      "execution_count": 21,
      "outputs": [
        {
          "output_type": "stream",
          "name": "stderr",
          "text": [
            "Some weights of the model checkpoint at bert-base-uncased were not used when initializing BertForSequenceClassification: ['cls.seq_relationship.weight', 'cls.predictions.transform.dense.bias', 'cls.predictions.transform.dense.weight', 'cls.seq_relationship.bias', 'cls.predictions.decoder.weight', 'cls.predictions.transform.LayerNorm.bias', 'cls.predictions.transform.LayerNorm.weight', 'cls.predictions.bias']\n",
            "- This IS expected if you are initializing BertForSequenceClassification from the checkpoint of a model trained on another task or with another architecture (e.g. initializing a BertForSequenceClassification model from a BertForPreTraining model).\n",
            "- This IS NOT expected if you are initializing BertForSequenceClassification from the checkpoint of a model that you expect to be exactly identical (initializing a BertForSequenceClassification model from a BertForSequenceClassification model).\n",
            "Some weights of BertForSequenceClassification were not initialized from the model checkpoint at bert-base-uncased and are newly initialized: ['classifier.weight', 'classifier.bias']\n",
            "You should probably TRAIN this model on a down-stream task to be able to use it for predictions and inference.\n"
          ]
        },
        {
          "output_type": "error",
          "ename": "AttributeError",
          "evalue": "ignored",
          "traceback": [
            "\u001b[0;31m---------------------------------------------------------------------------\u001b[0m",
            "\u001b[0;31mAttributeError\u001b[0m                            Traceback (most recent call last)",
            "\u001b[0;32m<ipython-input-21-638515944b8e>\u001b[0m in \u001b[0;36m<cell line: 20>\u001b[0;34m()\u001b[0m\n\u001b[1;32m     18\u001b[0m \u001b[0;34m\u001b[0m\u001b[0m\n\u001b[1;32m     19\u001b[0m \u001b[0;31m# Freeze the parameters of the first two layers\u001b[0m\u001b[0;34m\u001b[0m\u001b[0;34m\u001b[0m\u001b[0m\n\u001b[0;32m---> 20\u001b[0;31m \u001b[0mmodel\u001b[0m\u001b[0;34m.\u001b[0m\u001b[0mencoder\u001b[0m\u001b[0;34m.\u001b[0m\u001b[0mlayer\u001b[0m\u001b[0;34m[\u001b[0m\u001b[0;36m0\u001b[0m\u001b[0;34m]\u001b[0m\u001b[0;34m.\u001b[0m\u001b[0mrequires_grad_\u001b[0m\u001b[0;34m(\u001b[0m\u001b[0;32mFalse\u001b[0m\u001b[0;34m)\u001b[0m\u001b[0;34m\u001b[0m\u001b[0;34m\u001b[0m\u001b[0m\n\u001b[0m\u001b[1;32m     21\u001b[0m \u001b[0mmodel\u001b[0m\u001b[0;34m.\u001b[0m\u001b[0mencoder\u001b[0m\u001b[0;34m.\u001b[0m\u001b[0mlayer\u001b[0m\u001b[0;34m[\u001b[0m\u001b[0;36m1\u001b[0m\u001b[0;34m]\u001b[0m\u001b[0;34m.\u001b[0m\u001b[0mrequires_grad_\u001b[0m\u001b[0;34m(\u001b[0m\u001b[0;32mFalse\u001b[0m\u001b[0;34m)\u001b[0m\u001b[0;34m\u001b[0m\u001b[0;34m\u001b[0m\u001b[0m\n\u001b[1;32m     22\u001b[0m \u001b[0;34m\u001b[0m\u001b[0m\n",
            "\u001b[0;32m/usr/local/lib/python3.9/dist-packages/torch/nn/modules/module.py\u001b[0m in \u001b[0;36m__getattr__\u001b[0;34m(self, name)\u001b[0m\n\u001b[1;32m   1612\u001b[0m             \u001b[0;32mif\u001b[0m \u001b[0mname\u001b[0m \u001b[0;32min\u001b[0m \u001b[0mmodules\u001b[0m\u001b[0;34m:\u001b[0m\u001b[0;34m\u001b[0m\u001b[0;34m\u001b[0m\u001b[0m\n\u001b[1;32m   1613\u001b[0m                 \u001b[0;32mreturn\u001b[0m \u001b[0mmodules\u001b[0m\u001b[0;34m[\u001b[0m\u001b[0mname\u001b[0m\u001b[0;34m]\u001b[0m\u001b[0;34m\u001b[0m\u001b[0;34m\u001b[0m\u001b[0m\n\u001b[0;32m-> 1614\u001b[0;31m         raise AttributeError(\"'{}' object has no attribute '{}'\".format(\n\u001b[0m\u001b[1;32m   1615\u001b[0m             type(self).__name__, name))\n\u001b[1;32m   1616\u001b[0m \u001b[0;34m\u001b[0m\u001b[0m\n",
            "\u001b[0;31mAttributeError\u001b[0m: 'BertForSequenceClassification' object has no attribute 'encoder'"
          ]
        }
      ]
    },
    {
      "cell_type": "code",
      "source": [
        "model.bert.encoder.layer"
      ],
      "metadata": {
        "colab": {
          "base_uri": "https://localhost:8080/"
        },
        "id": "kMjKfiBIRP1b",
        "outputId": "2548edfb-7ad2-4aa0-c172-11f6d40644ab"
      },
      "execution_count": 22,
      "outputs": [
        {
          "output_type": "execute_result",
          "data": {
            "text/plain": [
              "ModuleList(\n",
              "  (0-11): 12 x BertLayer(\n",
              "    (attention): BertAttention(\n",
              "      (self): BertSelfAttention(\n",
              "        (query): Linear(in_features=768, out_features=768, bias=True)\n",
              "        (key): Linear(in_features=768, out_features=768, bias=True)\n",
              "        (value): Linear(in_features=768, out_features=768, bias=True)\n",
              "        (dropout): Dropout(p=0.1, inplace=False)\n",
              "      )\n",
              "      (output): BertSelfOutput(\n",
              "        (dense): Linear(in_features=768, out_features=768, bias=True)\n",
              "        (LayerNorm): LayerNorm((768,), eps=1e-12, elementwise_affine=True)\n",
              "        (dropout): Dropout(p=0.1, inplace=False)\n",
              "      )\n",
              "    )\n",
              "    (intermediate): BertIntermediate(\n",
              "      (dense): Linear(in_features=768, out_features=3072, bias=True)\n",
              "      (intermediate_act_fn): GELUActivation()\n",
              "    )\n",
              "    (output): BertOutput(\n",
              "      (dense): Linear(in_features=3072, out_features=768, bias=True)\n",
              "      (LayerNorm): LayerNorm((768,), eps=1e-12, elementwise_affine=True)\n",
              "      (dropout): Dropout(p=0.1, inplace=False)\n",
              "    )\n",
              "  )\n",
              ")"
            ]
          },
          "metadata": {},
          "execution_count": 22
        }
      ]
    },
    {
      "cell_type": "code",
      "source": [
        "getattr(model.bert.encoder.layer[1 - 1], \"adapter\")"
      ],
      "metadata": {
        "colab": {
          "base_uri": "https://localhost:8080/",
          "height": 289
        },
        "id": "PlRkUHEIRUHG",
        "outputId": "675a4436-3d40-4d17-b93f-9fe2dfadc000"
      },
      "execution_count": 27,
      "outputs": [
        {
          "output_type": "error",
          "ename": "AttributeError",
          "evalue": "ignored",
          "traceback": [
            "\u001b[0;31m---------------------------------------------------------------------------\u001b[0m",
            "\u001b[0;31mAttributeError\u001b[0m                            Traceback (most recent call last)",
            "\u001b[0;32m<ipython-input-27-b8841f8df925>\u001b[0m in \u001b[0;36m<cell line: 1>\u001b[0;34m()\u001b[0m\n\u001b[0;32m----> 1\u001b[0;31m \u001b[0mgetattr\u001b[0m\u001b[0;34m(\u001b[0m\u001b[0mmodel\u001b[0m\u001b[0;34m.\u001b[0m\u001b[0mbert\u001b[0m\u001b[0;34m.\u001b[0m\u001b[0mencoder\u001b[0m\u001b[0;34m.\u001b[0m\u001b[0mlayer\u001b[0m\u001b[0;34m[\u001b[0m\u001b[0;36m1\u001b[0m \u001b[0;34m-\u001b[0m \u001b[0;36m1\u001b[0m\u001b[0;34m]\u001b[0m\u001b[0;34m,\u001b[0m \u001b[0;34m\"adapter\"\u001b[0m\u001b[0;34m)\u001b[0m\u001b[0;34m\u001b[0m\u001b[0;34m\u001b[0m\u001b[0m\n\u001b[0m",
            "\u001b[0;32m/usr/local/lib/python3.9/dist-packages/torch/nn/modules/module.py\u001b[0m in \u001b[0;36m__getattr__\u001b[0;34m(self, name)\u001b[0m\n\u001b[1;32m   1612\u001b[0m             \u001b[0;32mif\u001b[0m \u001b[0mname\u001b[0m \u001b[0;32min\u001b[0m \u001b[0mmodules\u001b[0m\u001b[0;34m:\u001b[0m\u001b[0;34m\u001b[0m\u001b[0;34m\u001b[0m\u001b[0m\n\u001b[1;32m   1613\u001b[0m                 \u001b[0;32mreturn\u001b[0m \u001b[0mmodules\u001b[0m\u001b[0;34m[\u001b[0m\u001b[0mname\u001b[0m\u001b[0;34m]\u001b[0m\u001b[0;34m\u001b[0m\u001b[0;34m\u001b[0m\u001b[0m\n\u001b[0;32m-> 1614\u001b[0;31m         raise AttributeError(\"'{}' object has no attribute '{}'\".format(\n\u001b[0m\u001b[1;32m   1615\u001b[0m             type(self).__name__, name))\n\u001b[1;32m   1616\u001b[0m \u001b[0;34m\u001b[0m\u001b[0m\n",
            "\u001b[0;31mAttributeError\u001b[0m: 'BertLayer' object has no attribute 'adapter'"
          ]
        }
      ]
    },
    {
      "cell_type": "code",
      "source": [],
      "metadata": {
        "id": "v5vOLzmoRu6V"
      },
      "execution_count": null,
      "outputs": []
    }
  ]
}